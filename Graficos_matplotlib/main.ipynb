{
 "cells": [
  {
   "cell_type": "markdown",
   "id": "3a8f74dc",
   "metadata": {},
   "source": [
    "# Matplotlib"
   ]
  },
  {
   "cell_type": "markdown",
   "id": "a93cc4ff",
   "metadata": {},
   "source": [
    "<p>É a biblioteca python mais popular para visualização de dados e geração de gráficos.</p>\n",
    "<p>Permite que você crie facilmente gráficos, histogramas e outras visualizações profissionais</p>\n",
    "<p>Quando usado no Jupyter Notebook, Matplotlib tem recursos interativos como zoom e visão panorâmica.</p>\n",
    "<p>Ele possui suporte em todos os sistemas operacionais e também pode exportar gráficos para vetor comum e outros formatos como: pdf, svg, jpg, bmp, gif, etc...</p>\n",
    "<p>Para simples plotagem o método pyplot fornece uma interface parecida com o Matlab, especialmente quando combinado com Jupyter Notebook.</p>\n",
    "<p>O Usuário tem total controle de estilos de linhas, propriedades de fonte, atributos, etc.. através de uma interface orientada o objetos ou através de um conjunto de funções familiares aos usuários do Matlab.</p>\n",
    "<p>Adica mais importante é: <b>Menos é Mais</b></p>\n"
   ]
  },
  {
   "cell_type": "code",
   "execution_count": null,
   "id": "0ef57ea1",
   "metadata": {},
   "outputs": [],
   "source": []
  }
 ],
 "metadata": {
  "kernelspec": {
   "display_name": "Python 3 (ipykernel)",
   "language": "python",
   "name": "python3"
  },
  "language_info": {
   "codemirror_mode": {
    "name": "ipython",
    "version": 3
   },
   "file_extension": ".py",
   "mimetype": "text/x-python",
   "name": "python",
   "nbconvert_exporter": "python",
   "pygments_lexer": "ipython3",
   "version": "3.9.10"
  }
 },
 "nbformat": 4,
 "nbformat_minor": 5
}
