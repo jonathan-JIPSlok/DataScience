{
 "cells": [
  {
   "cell_type": "markdown",
   "id": "70a4da19",
   "metadata": {},
   "source": [
    "# SciPy\n",
    "<p> É uma coleção de pacotes que tratam problemas em domínios específicos em computação científica.</p>\n",
    "<p>SciPy e NumPy quando utilizados juntos, possuem por exemplo as mesmas funcionalidades do Matlab.</p>\n",
    "<p>SciPy é um conjunto de algoritimos matemáticos e funções que permitem estender as funcionalidades do NumPy.</p>\n",
    "<p>O NumPy é na verdade, um subconjunto do SciPy.</p>\n",
    "<p>Com SciPy uma sessão interativa do Python torna-se um ambiente de processamento de dados e sistema de prototipagem tal como Matlab, Octave, R-Lab e SciLab.</p>\n",
    "<p>O SciPy possui uma série de pacotes para:</p>\n",
    "<ul>\n",
    "    <li> Álgebra linear\n",
    "    <li> Matrizes esparas\n",
    "    <li> Números randômicos\n",
    "    <li> Transformações Fas Fourier\n",
    "    <li> Estimativa de Densidade\n",
    "    <li> Otimização\n",
    "    <li> Processamento de sinais e imagens\n",
    "</ul>\n"
   ]
  },
  {
   "cell_type": "code",
   "execution_count": 4,
   "id": "bb458784",
   "metadata": {},
   "outputs": [
    {
     "name": "stderr",
     "output_type": "stream",
     "text": [
      "C:\\Users\\Jonathan\\AppData\\Local\\Temp\\ipykernel_5288\\4077283532.py:7: MatplotlibDeprecationWarning: Directly reading images from URLs is deprecated since 3.4 and will no longer be supported two minor releases later. Please open the URL for reading and pass the result to Pillow, e.g. with ``np.array(PIL.Image.open(urllib.request.urlopen(url)))``.\n",
      "  plt.imread('https://raw.githubusercontent.com/dsacademybr/PythonFundamentos/master/Cap08/Notebooks/ml_map.png') #Lê uma imagem\n"
     ]
    },
    {
     "data": {
      "text/plain": [
       "array([[[0.9607843, 0.9647059, 0.9647059],\n",
       "        [0.9607843, 0.9647059, 0.9647059],\n",
       "        [0.9607843, 0.9647059, 0.9647059],\n",
       "        ...,\n",
       "        [0.9607843, 0.9647059, 0.9647059],\n",
       "        [0.9607843, 0.9647059, 0.9647059],\n",
       "        [0.9607843, 0.9647059, 0.9647059]],\n",
       "\n",
       "       [[0.9607843, 0.9647059, 0.9647059],\n",
       "        [0.9607843, 0.9647059, 0.9647059],\n",
       "        [0.9607843, 0.9647059, 0.9647059],\n",
       "        ...,\n",
       "        [0.9607843, 0.9647059, 0.9647059],\n",
       "        [0.9607843, 0.9647059, 0.9647059],\n",
       "        [0.9607843, 0.9647059, 0.9647059]],\n",
       "\n",
       "       [[0.9607843, 0.9647059, 0.9647059],\n",
       "        [0.9607843, 0.9647059, 0.9647059],\n",
       "        [0.9607843, 0.9647059, 0.9647059],\n",
       "        ...,\n",
       "        [0.9607843, 0.9647059, 0.9647059],\n",
       "        [0.9607843, 0.9647059, 0.9647059],\n",
       "        [0.9607843, 0.9647059, 0.9647059]],\n",
       "\n",
       "       ...,\n",
       "\n",
       "       [[0.9607843, 0.9647059, 0.9647059],\n",
       "        [0.9607843, 0.9647059, 0.9647059],\n",
       "        [0.9607843, 0.9647059, 0.9647059],\n",
       "        ...,\n",
       "        [0.9607843, 0.9647059, 0.9647059],\n",
       "        [0.9607843, 0.9647059, 0.9647059],\n",
       "        [0.9607843, 0.9647059, 0.9647059]],\n",
       "\n",
       "       [[0.9607843, 0.9647059, 0.9647059],\n",
       "        [0.9607843, 0.9647059, 0.9647059],\n",
       "        [0.9607843, 0.9647059, 0.9647059],\n",
       "        ...,\n",
       "        [0.9607843, 0.9647059, 0.9647059],\n",
       "        [0.9607843, 0.9647059, 0.9647059],\n",
       "        [0.9607843, 0.9647059, 0.9647059]],\n",
       "\n",
       "       [[0.9607843, 0.9647059, 0.9647059],\n",
       "        [0.9607843, 0.9647059, 0.9647059],\n",
       "        [0.9607843, 0.9647059, 0.9647059],\n",
       "        ...,\n",
       "        [0.9607843, 0.9647059, 0.9647059],\n",
       "        [0.9607843, 0.9647059, 0.9647059],\n",
       "        [0.9607843, 0.9647059, 0.9647059]]], dtype=float32)"
      ]
     },
     "execution_count": 4,
     "metadata": {},
     "output_type": "execute_result"
    }
   ],
   "source": [
    "### Processamento de Imagem\n",
    "from scipy import misc\n",
    "#misc.imread('https://raw.githubusercontent.com/dsacademybr/PythonFundamentos/master/Cap08/Notebooks/ml_map.png') #Lê uma imagem\n",
    "\n",
    "#Matplotlib tem uma função similar \n",
    "import matplotlib.pyplot as plt\n",
    "plt.imread('https://raw.githubusercontent.com/dsacademybr/PythonFundamentos/master/Cap08/Notebooks/ml_map.png') #Lê uma imagem"
   ]
  },
  {
   "cell_type": "code",
   "execution_count": null,
   "id": "511d7be3",
   "metadata": {},
   "outputs": [],
   "source": []
  }
 ],
 "metadata": {
  "kernelspec": {
   "display_name": "Python 3 (ipykernel)",
   "language": "python",
   "name": "python3"
  },
  "language_info": {
   "codemirror_mode": {
    "name": "ipython",
    "version": 3
   },
   "file_extension": ".py",
   "mimetype": "text/x-python",
   "name": "python",
   "nbconvert_exporter": "python",
   "pygments_lexer": "ipython3",
   "version": "3.9.10"
  }
 },
 "nbformat": 4,
 "nbformat_minor": 5
}
