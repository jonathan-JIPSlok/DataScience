{
 "cells": [
  {
   "cell_type": "markdown",
   "id": "0228add6",
   "metadata": {},
   "source": [
    "# SciPy\n",
    "<p> É uma coleção de pacotes que tratam problemas em domínios específicos em computação científica.</p>\n",
    "<p>SciPy e NumPy quando utilizados juntos, possuem por exemplo as mesmas funcionalidades do Matlab.</p>\n",
    "<p>SciPy é um conjunto de algoritimos matemáticos e funções que permitem estender as funcionalidades do NumPy.</p>\n",
    "<p>O NumPy é na verdade, um subconjunto do SciPy.</p>\n",
    "<p>Com SciPy uma sessão interativa do Python torna-se um ambiente de processamento de dados e sistema de prototipagem tal como Matlab, Octave, R-Lab e SciLab.</p>\n",
    "<p>O SciPy possui uma série de pacotes para:</p>\n",
    "<ul>\n",
    "    <li> Álgebra linear\n",
    "    <li> Matrizes esparas\n",
    "    <li> Números randômicos\n",
    "    <li> Transformações Fas Fourier\n",
    "    <li> Estimativa de Densidade\n",
    "    <li> Otimização\n",
    "    <li> Processamento de sinais e imagens\n",
    "</ul>\n"
   ]
  },
  {
   "cell_type": "code",
   "execution_count": null,
   "id": "0ca904f7",
   "metadata": {},
   "outputs": [],
   "source": []
  }
 ],
 "metadata": {
  "kernelspec": {
   "display_name": "Python 3 (ipykernel)",
   "language": "python",
   "name": "python3"
  },
  "language_info": {
   "codemirror_mode": {
    "name": "ipython",
    "version": 3
   },
   "file_extension": ".py",
   "mimetype": "text/x-python",
   "name": "python",
   "nbconvert_exporter": "python",
   "pygments_lexer": "ipython3",
   "version": "3.9.10"
  }
 },
 "nbformat": 4,
 "nbformat_minor": 5
}
